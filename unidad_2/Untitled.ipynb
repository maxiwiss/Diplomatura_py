{
 "cells": [
  {
   "cell_type": "code",
   "execution_count": 1,
   "id": "394d009b-b6e2-49f0-a456-a79beba4413f",
   "metadata": {},
   "outputs": [
    {
     "name": "stdout",
     "output_type": "stream",
     "text": [
      "hola\n"
     ]
    }
   ],
   "source": [
    "print('hola')"
   ]
  },
  {
   "cell_type": "markdown",
   "id": "8e6a2cee-9648-45c0-bbfc-8c192f68cd43",
   "metadata": {},
   "source": [
    "<h1>Titulo1</h1>\n",
    "<h2>Titulo2</h2>\n",
    ">Hola chicos\n"
   ]
  },
  {
   "cell_type": "code",
   "execution_count": null,
   "id": "03276290-5bfa-42da-a4d2-05282a426b9e",
   "metadata": {},
   "outputs": [],
   "source": []
  },
  {
   "cell_type": "code",
   "execution_count": null,
   "id": "4f58e183-2c1f-4b5d-ab0a-000c0c3e8614",
   "metadata": {},
   "outputs": [],
   "source": []
  }
 ],
 "metadata": {
  "kernelspec": {
   "display_name": "Python 3 (ipykernel)",
   "language": "python",
   "name": "python3"
  },
  "language_info": {
   "codemirror_mode": {
    "name": "ipython",
    "version": 3
   },
   "file_extension": ".py",
   "mimetype": "text/x-python",
   "name": "python",
   "nbconvert_exporter": "python",
   "pygments_lexer": "ipython3",
   "version": "3.10.2"
  }
 },
 "nbformat": 4,
 "nbformat_minor": 5
}
